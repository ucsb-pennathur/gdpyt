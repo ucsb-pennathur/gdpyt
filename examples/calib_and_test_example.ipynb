{
 "cells": [
  {
   "cell_type": "code",
   "execution_count": 1,
   "metadata": {},
   "outputs": [],
   "source": [
    "from gdpyt import GdpytImageCollection, GdpytCalibrationSet\n",
    "import matplotlib.pyplot as plt\n",
    "import pandas as pd\n",
    "import numpy as np\n",
    "%matplotlib notebook"
   ]
  },
  {
   "cell_type": "code",
   "execution_count": 2,
   "metadata": {},
   "outputs": [
    {
     "name": "stderr",
     "output_type": "stream",
     "text": [
      "Found 56 files with filetype .tif in folder C:\\Users\\silus\\UCSB\\master_thesis\\python_stuff\\gdpyt\\tests\\test_data\\chip2test1\\50X\\calib\n",
      "Loaded image calib_0.tif\n",
      "Loaded image calib_1.tif\n",
      "Loaded image calib_10.tif\n",
      "Loaded image calib_11.tif\n",
      "Loaded image calib_12.tif\n",
      "Loaded image calib_13.tif\n",
      "Loaded image calib_14.tif\n",
      "Loaded image calib_15.tif\n",
      "Loaded image calib_16.tif\n",
      "Loaded image calib_17.tif\n",
      "Loaded image calib_18.tif\n",
      "Loaded image calib_19.tif\n",
      "Loaded image calib_2.tif\n",
      "Loaded image calib_20.tif\n",
      "Loaded image calib_21.tif\n",
      "Loaded image calib_22.tif\n",
      "Loaded image calib_23.tif\n",
      "Loaded image calib_24.tif\n",
      "Loaded image calib_25.tif\n",
      "Loaded image calib_26.tif\n",
      "Loaded image calib_27.tif\n",
      "Loaded image calib_28.tif\n",
      "Loaded image calib_29.tif\n",
      "Loaded image calib_3.tif\n",
      "Loaded image calib_30.tif\n",
      "Loaded image calib_31.tif\n",
      "Loaded image calib_32.tif\n",
      "Loaded image calib_33.tif\n",
      "Loaded image calib_34.tif\n",
      "Loaded image calib_35.tif\n",
      "Loaded image calib_36.tif\n",
      "Loaded image calib_37.tif\n",
      "Loaded image calib_38.tif\n",
      "Loaded image calib_39.tif\n",
      "Loaded image calib_4.tif\n",
      "Loaded image calib_40.tif\n",
      "Loaded image calib_41.tif\n",
      "Loaded image calib_42.tif\n",
      "Loaded image calib_43.tif\n",
      "Loaded image calib_44.tif\n",
      "Loaded image calib_45.tif\n",
      "Loaded image calib_46.tif\n",
      "Loaded image calib_47.tif\n",
      "Loaded image calib_48.tif\n",
      "Loaded image calib_49.tif\n",
      "Loaded image calib_5.tif\n",
      "Loaded image calib_50.tif\n",
      "Loaded image calib_51.tif\n",
      "Loaded image calib_52.tif\n",
      "Loaded image calib_53.tif\n",
      "Loaded image calib_54.tif\n",
      "Loaded image calib_55.tif\n",
      "Loaded image calib_6.tif\n",
      "Loaded image calib_7.tif\n",
      "Loaded image calib_8.tif\n",
      "Loaded image calib_9.tif\n"
     ]
    },
    {
     "ename": "TypeError",
     "evalue": "Expected Ptr<cv::UMat> for argument 'image'",
     "output_type": "error",
     "traceback": [
      "\u001b[1;31m---------------------------------------------------------------------------\u001b[0m",
      "\u001b[1;31mTypeError\u001b[0m                                 Traceback (most recent call last)",
      "\u001b[1;32m<ipython-input-2-82382d55d655>\u001b[0m in \u001b[0;36m<module>\u001b[1;34m\u001b[0m\n\u001b[0;32m      5\u001b[0m     'cv2.bilateralFilter': {'args': [9, 10, 10]}}\n\u001b[0;32m      6\u001b[0m \u001b[1;33m\u001b[0m\u001b[0m\n\u001b[1;32m----> 7\u001b[1;33m collection = GdpytImageCollection(folder, filetype, processing_specs=processing,\n\u001b[0m\u001b[0;32m      8\u001b[0m                                   min_particle_size=100)\n\u001b[0;32m      9\u001b[0m \u001b[0mcollection\u001b[0m\u001b[1;33m.\u001b[0m\u001b[0muniformize_particle_ids\u001b[0m\u001b[1;33m(\u001b[0m\u001b[1;33m)\u001b[0m\u001b[1;33m\u001b[0m\u001b[1;33m\u001b[0m\u001b[0m\n",
      "\u001b[1;32mc:\\users\\silus\\ucsb\\master_thesis\\python_stuff\\gdpyt\\gdpyt\\GdpytImageCollection.py\u001b[0m in \u001b[0;36m__init__\u001b[1;34m(self, folder, filetype, processing_specs, min_particle_size, max_particle_size, exclude)\u001b[0m\n\u001b[0;32m     32\u001b[0m \u001b[1;33m\u001b[0m\u001b[0m\n\u001b[0;32m     33\u001b[0m         \u001b[0mself\u001b[0m\u001b[1;33m.\u001b[0m\u001b[0mfilter_images\u001b[0m\u001b[1;33m(\u001b[0m\u001b[1;33m)\u001b[0m\u001b[1;33m\u001b[0m\u001b[1;33m\u001b[0m\u001b[0m\n\u001b[1;32m---> 34\u001b[1;33m         \u001b[0mself\u001b[0m\u001b[1;33m.\u001b[0m\u001b[0midentify_particles\u001b[0m\u001b[1;33m(\u001b[0m\u001b[1;33m)\u001b[0m\u001b[1;33m\u001b[0m\u001b[1;33m\u001b[0m\u001b[0m\n\u001b[0m\u001b[0;32m     35\u001b[0m         \u001b[1;31m#self.uniformize_particle_ids()\u001b[0m\u001b[1;33m\u001b[0m\u001b[1;33m\u001b[0m\u001b[1;33m\u001b[0m\u001b[0m\n\u001b[0;32m     36\u001b[0m \u001b[1;33m\u001b[0m\u001b[0m\n",
      "\u001b[1;32mc:\\users\\silus\\ucsb\\master_thesis\\python_stuff\\gdpyt\\gdpyt\\GdpytImageCollection.py\u001b[0m in \u001b[0;36midentify_particles\u001b[1;34m(self)\u001b[0m\n\u001b[0;32m     83\u001b[0m     \u001b[1;32mdef\u001b[0m \u001b[0midentify_particles\u001b[0m\u001b[1;33m(\u001b[0m\u001b[0mself\u001b[0m\u001b[1;33m)\u001b[0m\u001b[1;33m:\u001b[0m\u001b[1;33m\u001b[0m\u001b[1;33m\u001b[0m\u001b[0m\n\u001b[0;32m     84\u001b[0m         \u001b[1;32mfor\u001b[0m \u001b[0mimage\u001b[0m \u001b[1;32min\u001b[0m \u001b[0mself\u001b[0m\u001b[1;33m.\u001b[0m\u001b[0mimages\u001b[0m\u001b[1;33m.\u001b[0m\u001b[0mvalues\u001b[0m\u001b[1;33m(\u001b[0m\u001b[1;33m)\u001b[0m\u001b[1;33m:\u001b[0m\u001b[1;33m\u001b[0m\u001b[1;33m\u001b[0m\u001b[0m\n\u001b[1;32m---> 85\u001b[1;33m             \u001b[0mimage\u001b[0m\u001b[1;33m.\u001b[0m\u001b[0midentify_particles\u001b[0m\u001b[1;33m(\u001b[0m\u001b[0mmin_size\u001b[0m\u001b[1;33m=\u001b[0m\u001b[0mself\u001b[0m\u001b[1;33m.\u001b[0m\u001b[0m_min_particle_size\u001b[0m\u001b[1;33m,\u001b[0m \u001b[0mmax_size\u001b[0m\u001b[1;33m=\u001b[0m\u001b[0mself\u001b[0m\u001b[1;33m.\u001b[0m\u001b[0m_max_particle_size\u001b[0m\u001b[1;33m)\u001b[0m\u001b[1;33m\u001b[0m\u001b[1;33m\u001b[0m\u001b[0m\n\u001b[0m\u001b[0;32m     86\u001b[0m \u001b[1;33m\u001b[0m\u001b[0m\n\u001b[0;32m     87\u001b[0m     \u001b[1;32mdef\u001b[0m \u001b[0minfer_z\u001b[0m\u001b[1;33m(\u001b[0m\u001b[0mself\u001b[0m\u001b[1;33m,\u001b[0m \u001b[0mcalib_set\u001b[0m\u001b[1;33m,\u001b[0m \u001b[0mfunction\u001b[0m\u001b[1;33m=\u001b[0m\u001b[1;34m'ccorr'\u001b[0m\u001b[1;33m)\u001b[0m\u001b[1;33m:\u001b[0m\u001b[1;33m\u001b[0m\u001b[1;33m\u001b[0m\u001b[0m\n",
      "\u001b[1;32mc:\\users\\silus\\ucsb\\master_thesis\\python_stuff\\gdpyt\\gdpyt\\GdpytImage.py\u001b[0m in \u001b[0;36midentify_particles\u001b[1;34m(self, min_size, max_size, find_circles)\u001b[0m\n\u001b[0;32m    127\u001b[0m \u001b[1;33m\u001b[0m\u001b[0m\n\u001b[0;32m    128\u001b[0m             \u001b[1;31m# Identify particles\u001b[0m\u001b[1;33m\u001b[0m\u001b[1;33m\u001b[0m\u001b[1;33m\u001b[0m\u001b[0m\n\u001b[1;32m--> 129\u001b[1;33m             \u001b[0mcontours\u001b[0m\u001b[1;33m,\u001b[0m \u001b[0mbboxes\u001b[0m \u001b[1;33m=\u001b[0m \u001b[0midentify_contours\u001b[0m\u001b[1;33m(\u001b[0m\u001b[0mparticle_mask\u001b[0m\u001b[1;33m)\u001b[0m\u001b[1;33m\u001b[0m\u001b[1;33m\u001b[0m\u001b[0m\n\u001b[0m\u001b[0;32m    130\u001b[0m \u001b[1;33m\u001b[0m\u001b[0m\n\u001b[0;32m    131\u001b[0m             \u001b[1;31m# Calculate SNR + Particle image density\u001b[0m\u001b[1;33m\u001b[0m\u001b[1;33m\u001b[0m\u001b[1;33m\u001b[0m\u001b[0m\n",
      "\u001b[1;32mc:\\users\\silus\\ucsb\\master_thesis\\python_stuff\\gdpyt\\gdpyt\\particle_identification.py\u001b[0m in \u001b[0;36midentify_contours\u001b[1;34m(particle_mask)\u001b[0m\n\u001b[0;32m     11\u001b[0m \u001b[1;33m\u001b[0m\u001b[0m\n\u001b[0;32m     12\u001b[0m \u001b[1;32mdef\u001b[0m \u001b[0midentify_contours\u001b[0m\u001b[1;33m(\u001b[0m\u001b[0mparticle_mask\u001b[0m\u001b[1;33m)\u001b[0m\u001b[1;33m:\u001b[0m\u001b[1;33m\u001b[0m\u001b[1;33m\u001b[0m\u001b[0m\n\u001b[1;32m---> 13\u001b[1;33m     \u001b[0mcontours\u001b[0m \u001b[1;33m=\u001b[0m \u001b[0mcv2\u001b[0m\u001b[1;33m.\u001b[0m\u001b[0mfindContours\u001b[0m\u001b[1;33m(\u001b[0m\u001b[0mparticle_mask\u001b[0m\u001b[1;33m.\u001b[0m\u001b[0mcopy\u001b[0m\u001b[1;33m(\u001b[0m\u001b[1;33m)\u001b[0m\u001b[1;33m,\u001b[0m \u001b[0mcv2\u001b[0m\u001b[1;33m.\u001b[0m\u001b[0mRETR_LIST\u001b[0m\u001b[1;33m,\u001b[0m \u001b[0mcv2\u001b[0m\u001b[1;33m.\u001b[0m\u001b[0mCHAIN_APPROX_NONE\u001b[0m\u001b[1;33m)\u001b[0m\u001b[1;33m\u001b[0m\u001b[1;33m\u001b[0m\u001b[0m\n\u001b[0m\u001b[0;32m     14\u001b[0m     \u001b[0mcontours\u001b[0m \u001b[1;33m=\u001b[0m \u001b[0mimutils\u001b[0m\u001b[1;33m.\u001b[0m\u001b[0mgrab_contours\u001b[0m\u001b[1;33m(\u001b[0m\u001b[0mcontours\u001b[0m\u001b[1;33m)\u001b[0m\u001b[1;33m\u001b[0m\u001b[1;33m\u001b[0m\u001b[0m\n\u001b[0;32m     15\u001b[0m     \u001b[0mbboxes\u001b[0m \u001b[1;33m=\u001b[0m \u001b[1;33m[\u001b[0m\u001b[0mcv2\u001b[0m\u001b[1;33m.\u001b[0m\u001b[0mboundingRect\u001b[0m\u001b[1;33m(\u001b[0m\u001b[0mcontour\u001b[0m\u001b[1;33m)\u001b[0m \u001b[1;32mfor\u001b[0m \u001b[0mcontour\u001b[0m \u001b[1;32min\u001b[0m \u001b[0mcontours\u001b[0m\u001b[1;33m]\u001b[0m\u001b[1;33m\u001b[0m\u001b[1;33m\u001b[0m\u001b[0m\n",
      "\u001b[1;31mTypeError\u001b[0m: Expected Ptr<cv::UMat> for argument 'image'"
     ]
    }
   ],
   "source": [
    "folder = r'C:\\Users\\silus\\UCSB\\master_thesis\\python_stuff\\gdpyt\\tests\\test_data\\chip2test1\\50X\\calib'\n",
    "filetype = '.tif'\n",
    "processing = {\n",
    "    'cv2.medianBlur': {'args': [9]},\n",
    "    'cv2.bilateralFilter': {'args': [9, 10, 10]}}\n",
    "\n",
    "collection = GdpytImageCollection(folder, filetype, processing_specs=processing,\n",
    "                                  min_particle_size=100)\n",
    "collection.uniformize_particle_ids()"
   ]
  },
  {
   "cell_type": "code",
   "execution_count": null,
   "metadata": {
    "scrolled": false
   },
   "outputs": [],
   "source": [
    "fig = collection.plot(raw=False, draw_particles=True)\n",
    "fig.show()"
   ]
  },
  {
   "cell_type": "markdown",
   "metadata": {},
   "source": [
    "## Create a calibration set from these images"
   ]
  },
  {
   "cell_type": "code",
   "execution_count": null,
   "metadata": {},
   "outputs": [],
   "source": [
    "name_to_z = {}\n",
    "for image in collection.images.values():\n",
    "    name_to_z.update({image.filename: float(image.filename.split('_')[-1].split('.')[0])})\n",
    "\n",
    "exclude = [img_name for img_name, z in name_to_z.items() if z > 45.0]\n",
    "print(\"Images to exclude in calibration: {}\".format(exclude))\n",
    "\n",
    "calib_set = collection.create_calibration(name_to_z, exclude=exclude)"
   ]
  },
  {
   "cell_type": "markdown",
   "metadata": {},
   "source": [
    "Let's look at the calibration stack for particle ID 3:"
   ]
  },
  {
   "cell_type": "code",
   "execution_count": null,
   "metadata": {
    "scrolled": false
   },
   "outputs": [],
   "source": [
    "get_stack_id = 3\n",
    "stack3 = calib_set.calibration_stacks[get_stack_id]\n",
    "fig = stack3.plot()\n",
    "fig.show()"
   ]
  },
  {
   "cell_type": "markdown",
   "metadata": {},
   "source": [
    "## Infering the height of particles on test images using this calibration"
   ]
  },
  {
   "cell_type": "code",
   "execution_count": null,
   "metadata": {},
   "outputs": [],
   "source": [
    "test_folder = r'C:\\Users\\silus\\UCSB\\master_thesis\\python_stuff\\gdpyt\\tests\\test_data\\chip2test1\\50X\\test\\chip1_E5_P2_f1_Obj50X_FPNR5_run_4'\n",
    "filetype = '.tif'\n",
    "test_collection = GdpytImageCollection(test_folder, filetype, processing_specs=processing,\n",
    "                                  min_particle_size=100)\n",
    "\n",
    "# The particle IDs in the test sets must match the ones in the calibration set so use the calibration set as the baseline \n",
    "# for ID uniformization\n",
    "test_collection.uniformize_particle_ids(baseline=calib_set)\n"
   ]
  },
  {
   "cell_type": "code",
   "execution_count": null,
   "metadata": {},
   "outputs": [],
   "source": [
    "fig = test_collection.plot(raw=False, draw_particles=True)\n",
    "fig.show()"
   ]
  },
  {
   "cell_type": "code",
   "execution_count": null,
   "metadata": {},
   "outputs": [],
   "source": [
    "# Infer height using zero normalized cross correlation\n",
    "test_collection.infer_z(calib_set, function='znccorr')"
   ]
  },
  {
   "cell_type": "code",
   "execution_count": null,
   "metadata": {},
   "outputs": [],
   "source": [
    "particle = test_collection[1].get_particle(3)\n",
    "# Returns a list (with one element)\n",
    "particle"
   ]
  },
  {
   "cell_type": "code",
   "execution_count": null,
   "metadata": {},
   "outputs": [],
   "source": [
    "particle[0].similarity_curve.head()"
   ]
  },
  {
   "cell_type": "code",
   "execution_count": null,
   "metadata": {},
   "outputs": [],
   "source": [
    "plt.figure()\n",
    "plt.plot(particle[0].similarity_curve['z'], particle[0].similarity_curve['S_ZNCCORR'], marker='o')\n",
    "plt.xlabel('Z (calib. layer)')\n",
    "plt.ylabel('Similarity (Zero-norm. ccorr)')\n",
    "plt.title('Particle 3 on image {}'.format(test_collection[1].filename))\n",
    "plt.axvline(particle[0].z, linestyle=':', color='k')"
   ]
  },
  {
   "cell_type": "markdown",
   "metadata": {},
   "source": [
    "Particle template and layer of the calibration stack that returned the maximum:"
   ]
  },
  {
   "cell_type": "code",
   "execution_count": null,
   "metadata": {},
   "outputs": [],
   "source": [
    "fig = test_collection.plot_particle_trajectories()\n",
    "fig.show()"
   ]
  },
  {
   "cell_type": "code",
   "execution_count": null,
   "metadata": {},
   "outputs": [],
   "source": [
    "plt.figure()\n",
    "plt.imshow(particle[0].template)"
   ]
  },
  {
   "cell_type": "code",
   "execution_count": null,
   "metadata": {},
   "outputs": [],
   "source": [
    "plt.figure()\n",
    "plt.imshow(stack3.layers[particle[0].z])"
   ]
  },
  {
   "cell_type": "code",
   "execution_count": null,
   "metadata": {},
   "outputs": [],
   "source": []
  }
 ],
 "metadata": {
  "kernelspec": {
   "display_name": "gdpyt",
   "language": "python",
   "name": "gdpyt"
  },
  "language_info": {
   "codemirror_mode": {
    "name": "ipython",
    "version": 3
   },
   "file_extension": ".py",
   "mimetype": "text/x-python",
   "name": "python",
   "nbconvert_exporter": "python",
   "pygments_lexer": "ipython3",
   "version": "3.8.2"
  }
 },
 "nbformat": 4,
 "nbformat_minor": 2
}
