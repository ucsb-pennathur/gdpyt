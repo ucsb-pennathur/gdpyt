{
 "cells": [
  {
   "cell_type": "code",
   "execution_count": null,
   "metadata": {},
   "outputs": [],
   "source": [
    "from gdpyt import GdpytImageCollection, GdpytCalibrationSet\n",
    "from os.path import join\n",
    "import os\n",
    "import matplotlib.pyplot as plt\n",
    "import pandas as pd\n",
    "import numpy as np\n",
    "from skimage.morphology import disk, square\n",
    "%matplotlib notebook"
   ]
  },
  {
   "cell_type": "code",
   "execution_count": null,
   "metadata": {},
   "outputs": [],
   "source": [
    "meas_path = r'C:\\Users\\silus\\Box Sync\\master_thesis\\results\\deflection\\8_4_2020\\left_electrode\\0005\\loc4\\IC10'\n",
    "# Measurement at 1000 V\n",
    "v = 1000\n",
    "test_img_path = join(meas_path, '{}V'.format(v), 'run1', 'images')\n",
    "calib_img_path = join(meas_path, 'calibration_images')"
   ]
  },
  {
   "cell_type": "code",
   "execution_count": null,
   "metadata": {},
   "outputs": [],
   "source": [
    "filetype = '.tif'\n",
    "# None: Take any shape. \n",
    "# Number > 0: Only keep particles for which 4*pi*area / circumference**2 - 1 is smaller than the value given\n",
    "shape_tolerance = 0.4 \n",
    "\n",
    "# Minimum and maximum particle size (areas) in pixel\n",
    "min_p_size = 5\n",
    "max_p_size = 3000\n",
    "\n",
    "# Tolerance in pixels for the amount that xy position of the center of a particle can vary over the images and\n",
    "# still get the the same id\n",
    "same_id_thresh = 5\n",
    "\n",
    "# Add filters if needed\n",
    "processing = {\n",
    "    #'median': {'args': [disk(3)]},\n",
    "    #'gaussian': {'args': [], 'kwargs': dict(sigma=1, preserve_range=True)}\n",
    "}\n",
    "\n",
    "# Multiple thresholding algorithms are possible, ostu usually works the best\n",
    "threshold = {\n",
    "    #'multiotsu': {'classes': 3}\n",
    "    #'triangle': []\n",
    "    'otsu': []\n",
    "    #'local': {'block_size': 51, 'offset': -10, 'method': 'mean'} \n",
    "}\n",
    "\n",
    "calib_col = GdpytImageCollection(calib_img_path, filetype, processing_specs=processing, thresholding_specs=threshold,\n",
    "                                 min_particle_size=min_p_size, max_particle_size=max_p_size, shape_tol=shape_tolerance)\n",
    "calib_col.uniformize_particle_ids(threshold=same_id_thresh)\n",
    "\n",
    "# Calibration image filename to z position dictionary\n",
    "# The example here maps 'calib_X.tif' to z = X\n",
    "name_to_z = {}\n",
    "for image in calib_col.images.values():\n",
    "    name_to_z.update({image.filename: float(image.filename.split('_')[-1].split('.')[0])})\n",
    "\n",
    "# Dilate: dilate images to have room to slide template and find ideal position\n",
    "calib_set = calib_col.create_calibration(name_to_z, dilate=False) "
   ]
  },
  {
   "cell_type": "code",
   "execution_count": null,
   "metadata": {},
   "outputs": [],
   "source": [
    "fig = calib_col.plot(raw=True)\n",
    "fig.subplots_adjust(hspace=0.1)\n",
    "fig.show()"
   ]
  },
  {
   "cell_type": "code",
   "execution_count": null,
   "metadata": {},
   "outputs": [],
   "source": [
    "# Plot single images\n",
    "# Replace with valid filename\n",
    "fig, axes = plt.subplots(ncols=3, figsize=(9,4))\n",
    "axes[0].imshow(calib_col.images['calib_50.tif'].raw)\n",
    "axes[0].set_title('Raw image')\n",
    "axes[1].imshow(calib_col.images['calib_50.tif'].filtered)\n",
    "axes[1].set_title('Filtered image')\n",
    "axes[2].imshow(calib_col.images['calib_50.tif'].draw_particles(raw=True))\n",
    "axes[2].set_title('Raw image with particles')\n"
   ]
  },
  {
   "cell_type": "markdown",
   "metadata": {},
   "source": [
    "## Load test images"
   ]
  },
  {
   "cell_type": "code",
   "execution_count": null,
   "metadata": {},
   "outputs": [],
   "source": [
    "test_col = GdpytImageCollection(test_img_path, filetype, processing_specs=processing, thresholding_specs=threshold,\n",
    "                             min_particle_size=min_p_size, max_particle_size=max_p_size, shape_tol=shape_tolerance)\n",
    "test_col.uniformize_particle_ids(baseline=calib_set, threshold=same_id_thresh)"
   ]
  },
  {
   "cell_type": "code",
   "execution_count": null,
   "metadata": {
    "scrolled": true
   },
   "outputs": [],
   "source": [
    "# Show test collection (but might be a lot of images)\n",
    "\n",
    "#fig = test_col.plot(raw=True)\n",
    "#fig.subplots_adjust(hspace=0.1)\n",
    "#fig.show()"
   ]
  },
  {
   "cell_type": "code",
   "execution_count": null,
   "metadata": {
    "scrolled": true
   },
   "outputs": [],
   "source": [
    "# Infer position using Barnkob's similarity function ('bccorr')\n",
    "# Other options: 'znccorr' (zero-normalized cross-corr.) or 'ncorr' (normalized cross-corr.)\n",
    "test_col.infer_z(calib_set).bccorr(min_cm=0.95)"
   ]
  },
  {
   "cell_type": "markdown",
   "metadata": {},
   "source": [
    "## Visualize deflection"
   ]
  },
  {
   "cell_type": "code",
   "execution_count": null,
   "metadata": {},
   "outputs": [],
   "source": [
    "plt.figure()\n",
    "plt.imshow(test_col.images['0005_left_loc4_500V_1_X102.tif'].draw_particles())"
   ]
  },
  {
   "cell_type": "code",
   "execution_count": null,
   "metadata": {
    "scrolled": false
   },
   "outputs": [],
   "source": [
    "sort_imgs = lambda x: int(x.split('_X')[-1].split('.')[0])\n",
    "# Pass ids that should be displayed\n",
    "fig = test_col.plot_particle_coordinate(particle_ids=[i for i in range(50)], sort_images=sort_imgs)\n",
    "fig.show()"
   ]
  },
  {
   "cell_type": "markdown",
   "metadata": {},
   "source": [
    "## Getting coordinates of each particle in each frame as one dataframe"
   ]
  },
  {
   "cell_type": "code",
   "execution_count": null,
   "metadata": {},
   "outputs": [],
   "source": [
    "sort_images = sort_imgs\n",
    "\n",
    "coordinates= []\n",
    "if sort_images is None:\n",
    "    for image in test_cols[v].images.values():\n",
    "        coordinates.append(image.particle_coordinates())\n",
    "else:\n",
    "    if not callable(sort_images):\n",
    "        raise TypeError(\"sort_images must be a function that takes an image name as an argument and returns a value\"\n",
    "                        \"that can be used to sort the images\")\n",
    "    # Get the particle coordinates from all the images\n",
    "    for file in sorted(test_cols[v].files, key=sort_images):\n",
    "        coordinates.append(test_cols[v].images[file].particle_coordinates().set_index('id'))\n",
    "coordinates = pd.concat(coordinates, keys=[i for i in range(len(coordinates))], names=['Frame'])\n",
    "\n",
    "coordinates.head()"
   ]
  }
 ],
 "metadata": {
  "kernelspec": {
   "display_name": "gdpyt",
   "language": "python",
   "name": "gdpyt"
  },
  "language_info": {
   "codemirror_mode": {
    "name": "ipython",
    "version": 3
   },
   "file_extension": ".py",
   "mimetype": "text/x-python",
   "name": "python",
   "nbconvert_exporter": "python",
   "pygments_lexer": "ipython3",
   "version": "3.8.3"
  }
 },
 "nbformat": 4,
 "nbformat_minor": 2
}
