{
 "cells": [
  {
   "cell_type": "code",
   "execution_count": null,
   "metadata": {},
   "outputs": [],
   "source": [
    "from gdpyt import GdpytImageCollection, GdpytCalibrationSet\n",
    "from gdpyt.utils.evaluation import GdpytPerformanceEvaluation\n",
    "from os.path import join\n",
    "from os import getcwd\n",
    "import matplotlib.pyplot as plt\n",
    "import pandas as pd\n",
    "import numpy as np\n",
    "%load_ext autoreload\n",
    "%autoreload 2\n",
    "%matplotlib notebook"
   ]
  },
  {
   "cell_type": "markdown",
   "metadata": {},
   "source": [
    "Datasets"
   ]
  },
  {
   "cell_type": "code",
   "execution_count": null,
   "metadata": {},
   "outputs": [],
   "source": [
    "datasets = ['DS_Grid_N50_Nc10_5um_Sigma1_f365', # 20 calib images\n",
    "            'DS_Grid_N50_Nc20_5um_Sigma1_f365', # 50 calib images\n",
    "            'DS_Grid_N50_Nc50_5um_Sigma1_f365' # 100 calib images\n",
    "           ]\n",
    "# folder = join(r'C:\\Users\\silus\\UCSB\\master_thesis\\python_stuff\\gdpyt\\tests\\test_synthetic', datasets[1])\n",
    "folder = join(r'C:\\Users\\silus\\UCSB\\master_thesis\\python_stuff\\gdpyt\\tests\\test_synthetic\\Rossi_DS1_Nc50_Sigma0')\n",
    "calib_img_path = join(folder, 'calibration_images') # Calibration images (10 x 10 particles )\n",
    "test_img_path = join(folder, 'images') # Test images (10 x 10 particles at a random z height)\n",
    "test_txt_path = join(folder, 'input') # Ground truth (text files with coordinates of particles)"
   ]
  },
  {
   "cell_type": "markdown",
   "metadata": {},
   "source": [
    "Load calibration images"
   ]
  },
  {
   "cell_type": "code",
   "execution_count": null,
   "metadata": {},
   "outputs": [],
   "source": [
    "filetype = '.tif'\n",
    "# Add filters if wanted for error assessment\n",
    "processing = {\n",
    "    'cv2.convertScaleAbs': {'args': [], 'kwargs': dict(alpha=0.1, beta=0)},\n",
    "    #'cv2.GaussianBlur': {'args': [(11, 11), 5]},\n",
    "    'cv2.medianBlur': {'args': [5]}\n",
    "}\n",
    "threshold = {\n",
    "    'manual': [24]\n",
    "           #'otsu': [] \n",
    "}\n",
    "\n",
    "calib_col = GdpytImageCollection(calib_img_path, filetype, processing_specs=processing, thresholding_specs=threshold,\n",
    "                                 min_particle_size=5, max_particle_size=5000, shape_tol=0.5)\n",
    "calib_col.uniformize_particle_ids(threshold=30)\n",
    "name_to_z = {}\n",
    "for image in calib_col.images.values():\n",
    "    name_to_z.update({image.filename: float(image.filename.split('_')[-1].split(filetype)[0])})\n",
    "\n",
    "# Dilate: dilate images to have room to slide template and find ideal position\n",
    "calib_set = calib_col.create_calibration(name_to_z, dilate=True) "
   ]
  },
  {
   "cell_type": "code",
   "execution_count": null,
   "metadata": {},
   "outputs": [],
   "source": [
    "fig = calib_col.plot(raw=False, draw_particles=True)\n",
    "fig.subplots_adjust(hspace=0.1)\n",
    "fig.show()"
   ]
  },
  {
   "cell_type": "markdown",
   "metadata": {},
   "source": [
    "Load test images"
   ]
  },
  {
   "cell_type": "code",
   "execution_count": null,
   "metadata": {},
   "outputs": [],
   "source": [
    "collection = GdpytImageCollection(test_img_path, filetype, processing_specs=processing, thresholding_specs=threshold,\n",
    "                                 min_particle_size=5, max_particle_size=5000, shape_tol=0.5)\n",
    "collection.uniformize_particle_ids(baseline=calib_set, threshold=30)"
   ]
  },
  {
   "cell_type": "code",
   "execution_count": null,
   "metadata": {},
   "outputs": [],
   "source": [
    "fig = collection.plot(raw=False, draw_particles=True)\n",
    "fig.show()"
   ]
  },
  {
   "cell_type": "markdown",
   "metadata": {},
   "source": [
    "Infer z"
   ]
  },
  {
   "cell_type": "code",
   "execution_count": null,
   "metadata": {},
   "outputs": [],
   "source": [
    "collection.infer_z(calib_set, function='znccorr')"
   ]
  },
  {
   "cell_type": "code",
   "execution_count": null,
   "metadata": {},
   "outputs": [],
   "source": [
    "###### Coordinates of all particles on the 36th image\n",
    "collection[36].particles[13].similarity_curve"
   ]
  },
  {
   "cell_type": "markdown",
   "metadata": {},
   "source": [
    "Test the performance and make error plot"
   ]
  },
  {
   "cell_type": "code",
   "execution_count": null,
   "metadata": {},
   "outputs": [],
   "source": [
    "# Evaluate performance #############################################################################################\n",
    "perf_eval = GdpytPerformanceEvaluation(collection, test_txt_path)\n",
    "perf_eval.sigma_z_local()"
   ]
  },
  {
   "cell_type": "code",
   "execution_count": null,
   "metadata": {},
   "outputs": [],
   "source": [
    "calib_set.calibration_stacks[10]"
   ]
  },
  {
   "cell_type": "code",
   "execution_count": null,
   "metadata": {},
   "outputs": [],
   "source": [
    "sz_loc = perf_eval.sigma_z_local()\n",
    "fig, ax = plt.subplots(figsize=(7,5))\n",
    "ax.plot(sz_loc['z'], sz_loc['sigma_z_local'])\n",
    "ax.set_ylabel(r'$\\sigma_z$ [$\\mu$ m]', fontsize=12)\n",
    "ax.set_xlabel('Z [$\\mu$ m]')\n",
    "ax2 = ax.twinx()\n",
    "ax2.plot(sz_loc['z'], sz_loc['sigma_z_local'] / (abs(sz_loc['z'].max()) + abs(sz_loc['z'].min())))\n",
    "ax2.set_ylabel(r'$\\sigma_z / h$', fontsize=16)"
   ]
  },
  {
   "cell_type": "code",
   "execution_count": null,
   "metadata": {},
   "outputs": [],
   "source": []
  }
 ],
 "metadata": {
  "kernelspec": {
   "display_name": "gdpyt",
   "language": "python",
   "name": "gdpyt"
  },
  "language_info": {
   "codemirror_mode": {
    "name": "ipython",
    "version": 3
   },
   "file_extension": ".py",
   "mimetype": "text/x-python",
   "name": "python",
   "nbconvert_exporter": "python",
   "pygments_lexer": "ipython3",
   "version": "3.8.3"
  }
 },
 "nbformat": 4,
 "nbformat_minor": 2
}
