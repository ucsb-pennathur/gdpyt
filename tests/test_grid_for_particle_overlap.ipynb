{
 "cells": [
  {
   "cell_type": "code",
   "execution_count": 17,
   "id": "sapphire-robertson",
   "metadata": {},
   "outputs": [],
   "source": [
    "import numpy as np\n",
    "import matplotlib.pyplot as plt\n",
    "import pandas as pd\n",
    "import random"
   ]
  },
  {
   "cell_type": "code",
   "execution_count": 18,
   "id": "unlike-mustang",
   "metadata": {},
   "outputs": [],
   "source": [
    "n_images = 2\n",
    "n_calib = 2\n",
    "grid = (10, 10)\n",
    "range_z = (-40, 40)\n",
    "particle_diameter = 2\n",
    "img_shape = (1024, 1024)"
   ]
  },
  {
   "cell_type": "code",
   "execution_count": 19,
   "id": "aquatic-guard",
   "metadata": {},
   "outputs": [],
   "source": [
    "xtot, ytot = img_shape\n",
    "n_x, n_y = grid\n",
    "n_particles = n_x * n_y\n",
    "edge_x = xtot / (n_x + 1)\n",
    "edge_y = ytot / (n_y + 1)"
   ]
  },
  {
   "cell_type": "code",
   "execution_count": 20,
   "id": "casual-raising",
   "metadata": {},
   "outputs": [],
   "source": [
    "xy_coords = np.mgrid[edge_x:xtot - edge_x:complex(0, n_x),\n",
    "            edge_y:ytot - edge_y:complex(0, n_y)].reshape(2, -1).T"
   ]
  },
  {
   "cell_type": "code",
   "execution_count": 21,
   "id": "monthly-pitch",
   "metadata": {},
   "outputs": [
    {
     "data": {
      "image/png": "[encoded data removed]",
      "text/plain": [
       "<Figure size 432x288 with 1 Axes>"
      ]
     },
     "metadata": {
      "needs_background": "light"
     },
     "output_type": "display_data"
    }
   ],
   "source": [
    "fig, ax = plt.subplots()\n",
    "ax.scatter(xy_coords[:,0], xy_coords[:,1])\n",
    "plt.title('Evenly Spaced Grid')\n",
    "plt.show()"
   ]
  },
  {
   "cell_type": "code",
   "execution_count": 27,
   "id": "banned-thanks",
   "metadata": {},
   "outputs": [],
   "source": [
    "# copy the original array\n",
    "xyc = xy_coords.copy()\n",
    "\n",
    "# add a step size based on the x-value\n",
    "xyc = xyc[:,0] + (xyc[:,0] - xyc[0,0]) / xyc[0,0] * 6\n",
    "\n",
    "# restack the original array's y-coordinates\n",
    "c = np.vstack((xyc, xy_coords[:,1])).T\n",
    "\n",
    "# get only the inner coordinates to not change the image shape\n",
    "c = c[10:90]"
   ]
  },
  {
   "cell_type": "code",
   "execution_count": 30,
   "id": "subsequent-spending",
   "metadata": {},
   "outputs": [
    {
     "name": "stdout",
     "output_type": "stream",
     "text": [
      "6.38671875\n"
     ]
    }
   ],
   "source": [
    "# calculate the step size per column\n",
    "grid_step_size = (xyc[11] - xyc[0]) / xyc[0] * 6\n",
    "print(grid_step_size)"
   ]
  },
  {
   "cell_type": "code",
   "execution_count": 29,
   "id": "hollywood-teddy",
   "metadata": {},
   "outputs": [
    {
     "data": {
      "image/png": "[encoded data removed]",
      "text/plain": [
       "<Figure size 432x288 with 1 Axes>"
      ]
     },
     "metadata": {
      "needs_background": "light"
     },
     "output_type": "display_data"
    }
   ],
   "source": [
    "fig, ax = plt.subplots()\n",
    "ax.scatter(xy_coords[:,0], xy_coords[:,1], color='blue')\n",
    "ax.scatter(c[:,0], c[:,1], color='red')\n",
    "plt.title('Scaled Overlap Grid: {} step size'.format(np.round(grid_step_size, 3)))\n",
    "plt.show()"
   ]
  },
  {
   "cell_type": "code",
   "execution_count": 8,
   "id": "rocky-detroit",
   "metadata": {},
   "outputs": [
    {
     "name": "stdout",
     "output_type": "stream",
     "text": [
      "(100, 2)\n",
      "(80, 2)\n"
     ]
    }
   ],
   "source": [
    "print(np.shape(xy_coords))\n",
    "print(np.shape(c))"
   ]
  },
  {
   "cell_type": "code",
   "execution_count": 9,
   "id": "short-request",
   "metadata": {},
   "outputs": [
    {
     "name": "stdout",
     "output_type": "stream",
     "text": [
      "(180, 2)\n"
     ]
    }
   ],
   "source": [
    "# stack the two arrays together\n",
    "new_grid = np.vstack((xy_coords, c))\n",
    "print(np.shape(new_grid))"
   ]
  },
  {
   "cell_type": "code",
   "execution_count": 16,
   "id": "macro-breast",
   "metadata": {},
   "outputs": [
    {
     "name": "stdout",
     "output_type": "stream",
     "text": [
      "(180, 2)\n",
      "[[186.18181818  93.09090909]\n",
      " [186.18181818 186.18181818]\n",
      " [186.18181818 279.27272727]\n",
      " [186.18181818 372.36363636]\n",
      " [186.18181818 465.45454545]\n",
      " [186.18181818 558.54545455]\n",
      " [186.18181818 651.63636364]\n",
      " [186.18181818 744.72727273]\n",
      " [186.18181818 837.81818182]\n",
      " [186.18181818 930.90909091]]\n",
      "[[192.18181818  93.09090909]\n",
      " [192.18181818 186.18181818]\n",
      " [192.18181818 279.27272727]\n",
      " [192.18181818 372.36363636]\n",
      " [192.18181818 465.45454545]\n",
      " [192.18181818 558.54545455]\n",
      " [192.18181818 651.63636364]\n",
      " [192.18181818 744.72727273]\n",
      " [192.18181818 837.81818182]\n",
      " [192.18181818 930.90909091]]\n"
     ]
    }
   ],
   "source": [
    "print(np.shape(new_grid))\n",
    "print(new_grid[10:20,:])\n",
    "print(new_grid[100:110,:])"
   ]
  },
  {
   "cell_type": "code",
   "execution_count": 12,
   "id": "brown-metabolism",
   "metadata": {},
   "outputs": [
    {
     "data": {
      "image/png": "[encoded data removed]",
      "text/plain": [
       "<Figure size 432x288 with 1 Axes>"
      ]
     },
     "metadata": {
      "needs_background": "light"
     },
     "output_type": "display_data"
    }
   ],
   "source": [
    "fig, ax = plt.subplots()\n",
    "ax.scatter(new_grid[:,0], new_grid[:,1])\n",
    "plt.show()"
   ]
  },
  {
   "cell_type": "code",
   "execution_count": null,
   "id": "nasty-trial",
   "metadata": {},
   "outputs": [],
   "source": []
  }
 ],
 "metadata": {
  "kernelspec": {
   "display_name": "Python 3",
   "language": "python",
   "name": "python3"
  },
  "language_info": {
   "codemirror_mode": {
    "name": "ipython",
    "version": 3
   },
   "file_extension": ".py",
   "mimetype": "text/x-python",
   "name": "python",
   "nbconvert_exporter": "python",
   "pygments_lexer": "ipython3",
   "version": "3.8.7"
  }
 },
 "nbformat": 4,
 "nbformat_minor": 5
}
